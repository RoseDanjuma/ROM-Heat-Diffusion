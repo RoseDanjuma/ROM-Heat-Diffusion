{
  "nbformat": 4,
  "nbformat_minor": 0,
  "metadata": {
    "colab": {
      "provenance": []
    },
    "kernelspec": {
      "name": "python3",
      "display_name": "Python 3"
    },
    "language_info": {
      "name": "python"
    }
  },
  "cells": [
    {
      "cell_type": "code",
      "execution_count": null,
      "metadata": {
        "id": "slO6tX-OC1os"
      },
      "outputs": [],
      "source": []
    },
    {
      "cell_type": "markdown",
      "source": [
        "# Reduced Order Modeling (ROM) with Proper Orthogonal Decomposition (POD)\n",
        "This notebook demonstrates how to reduce a 2D heat diffusion PDE into a simpler model."
      ],
      "metadata": {
        "id": "NkIatK_oDFr9"
      }
    },
    {
      "cell_type": "code",
      "source": [
        "import numpy as np\n",
        "import matplotlib.pyplot as plt\n",
        "from scipy.linalg import svd"
      ],
      "metadata": {
        "id": "Hzc-HDEfDIqV"
      },
      "execution_count": 1,
      "outputs": []
    },
    {
      "cell_type": "markdown",
      "source": [
        "#Define Simulation Parameters\n",
        "\n",
        "We’ll use the finite difference method (FDM) to solve the heat equation on a grid."
      ],
      "metadata": {
        "id": "vfZFcQl5T5jp"
      }
    },
    {
      "cell_type": "code",
      "source": [
        "# Grid setup\n",
        "nx, ny = 30, 30   # grid size\n",
        "nt = 200          # number of time steps\n",
        "dx = 1.0 / (nx - 1)\n",
        "dy = 1.0 / (ny - 1)\n",
        "dt = 0.001\n",
        "alpha = 0.01      # thermal diffusivity\n",
        "\n",
        "# Initialize temperature field\n",
        "u = np.zeros((nx, ny))\n",
        "u[nx//2, ny//2] = 100.0   # hot spot in the center\n",
        "\n",
        "# Store snapshots for ROM\n",
        "snapshots = []\n"
      ],
      "metadata": {
        "id": "uLQVkcJNUAvX"
      },
      "execution_count": 2,
      "outputs": []
    },
    {
      "cell_type": "markdown",
      "source": [
        "#To Simulate"
      ],
      "metadata": {
        "id": "CCFBtQhBUVNd"
      }
    },
    {
      "cell_type": "code",
      "source": [
        "for n in range(nt):\n",
        "    un = u.copy()\n",
        "    # FDM update (2D diffusion)\n",
        "    u[1:-1,1:-1] = (\n",
        "        un[1:-1,1:-1] +\n",
        "        alpha*dt/dx**2 * (un[2:,1:-1] - 2*un[1:-1,1:-1] + un[:-2,1:-1]) +\n",
        "        alpha*dt/dy**2 * (un[1:-1,2:] - 2*un[1:-1,1:-1] + un[1:-1,:-2])\n",
        "    )\n",
        "    snapshots.append(u.flatten())\n",
        "\n",
        "snapshots = np.array(snapshots).T  # shape: (space_points, time_steps)\n",
        "print(\"Snapshot matrix shape:\", snapshots.shape)"
      ],
      "metadata": {
        "id": "iQwBRiNTUf4M",
        "colab": {
          "base_uri": "https://localhost:8080/"
        },
        "outputId": "c2cb7353-6667-4845-d98d-f03386eff52b"
      },
      "execution_count": 3,
      "outputs": [
        {
          "output_type": "stream",
          "name": "stdout",
          "text": [
            "Snapshot matrix shape: (900, 200)\n"
          ]
        }
      ]
    },
    {
      "cell_type": "markdown",
      "source": [
        "# Reduced Order Modeling (POD)\n",
        "\n",
        "Now, we compress the simulation using Singular Value Decomposition (SVD)."
      ],
      "metadata": {
        "id": "6XgoFKNQUofO"
      }
    },
    {
      "cell_type": "code",
      "source": [
        "# Apply SVD\n",
        "U, S, VT = svd(snapshots, full_matrices=False)\n",
        "\n",
        "# Keep only r modes\n",
        "r = 5\n",
        "Ur = U[:, :r]\n",
        "Sr = S[:r]\n",
        "Vr = VT[:r, :]\n",
        "\n",
        "# Approximate reconstruction\n",
        "snapshots_approx = Ur @ np.diag(Sr) @ Vr\n",
        "print(\"Reconstructed shape:\", snapshots_approx.shape)"
      ],
      "metadata": {
        "id": "OdtjaSJ8Uuxv",
        "colab": {
          "base_uri": "https://localhost:8080/"
        },
        "outputId": "526dda10-e860-48fa-e500-bdaca9380649"
      },
      "execution_count": 4,
      "outputs": [
        {
          "output_type": "stream",
          "name": "stdout",
          "text": [
            "Reconstructed shape: (900, 200)\n"
          ]
        }
      ]
    },
    {
      "cell_type": "markdown",
      "source": [
        "# Visualize Original vs Reduced"
      ],
      "metadata": {
        "id": "Y1kCiYWNU77d"
      }
    },
    {
      "cell_type": "code",
      "source": [
        "# Pick a time step to compare\n",
        "timestep = 100\n",
        "full_field = snapshots[:, timestep].reshape(nx, ny)\n",
        "reduced_field = snapshots_approx[:, timestep].reshape(nx, ny)\n",
        "\n",
        "plt.figure(figsize=(10,4))\n",
        "\n",
        "plt.subplot(1,2,1)\n",
        "plt.imshow(full_field, cmap=\"hot\", origin=\"lower\")\n",
        "plt.title(\"Full Simulation\")\n",
        "plt.colorbar()\n",
        "\n",
        "plt.subplot(1,2,2)\n",
        "plt.imshow(reduced_field, cmap=\"hot\", origin=\"lower\")\n",
        "plt.title(\"Reduced (ROM) with r=5\")\n",
        "plt.colorbar()\n",
        "\n",
        "plt.show()"
      ],
      "metadata": {
        "id": "fXUkL1pdVCsg",
        "colab": {
          "base_uri": "https://localhost:8080/",
          "height": 364
        },
        "outputId": "38dfd7f7-bbc5-45ad-948e-7ca500490585"
      },
      "execution_count": 5,
      "outputs": [
        {
          "output_type": "display_data",
          "data": {
            "text/plain": [
              "<Figure size 1000x400 with 4 Axes>"
            ],
            "image/png": "[encoded data removed]"
          },
          "metadata": {}
        }
      ]
    }
  ]
}